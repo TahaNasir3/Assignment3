{
 "cells": [
  {
   "cell_type": "code",
   "execution_count": 5,
   "metadata": {},
   "outputs": [
    {
     "name": "stdout",
     "output_type": "stream",
     "text": [
      "Present date and time:\n",
      "2021-10-24 17:42:21\n"
     ]
    }
   ],
   "source": [
    "#Q3\n",
    "import datetime\n",
    "Now=datetime.datetime.now();\n",
    "print(\"Present date and time:\");\n",
    "print(Now.strftime(\"%Y-%m-%d %H:%M:%S\"));"
   ]
  },
  {
   "cell_type": "code",
   "execution_count": 6,
   "metadata": {},
   "outputs": [
    {
     "name": "stdout",
     "output_type": "stream",
     "text": [
      "Twinkle, twinkle, little, star\n",
      "         How I wonder what you are!\n",
      "                 Up above the world so high\n",
      "                 Like a diaomond in the sky\n",
      "Twinkle, twinkle, little, star\n",
      "         How I wonder what you are\n"
     ]
    }
   ],
   "source": [
    "#Q1\n",
    "print(\"Twinkle, twinkle, little, star\");\n",
    "print(\"         How I wonder what you are!\\n                 Up above the world so high\\n                 Like a diaomond in the sky\");\n",
    "print(\"Twinkle, twinkle, little, star\\n         How I wonder what you are\");"
   ]
  },
  {
   "cell_type": "code",
   "execution_count": 7,
   "metadata": {},
   "outputs": [
    {
     "name": "stdout",
     "output_type": "stream",
     "text": [
      "My Python version\n",
      "3.8.5 (default, Sep  3 2020, 21:29:08) [MSC v.1916 64 bit (AMD64)]\n",
      "Version information\n",
      "sys.version_info(major=3, minor=8, micro=5, releaselevel='final', serial=0)\n"
     ]
    }
   ],
   "source": [
    "#Q2\n",
    "import sys\n",
    "print(\"My Python version\");\n",
    "print(sys.version);\n",
    "print(\"Version information\");\n",
    "print(sys.version_info);"
   ]
  },
  {
   "cell_type": "code",
   "execution_count": 10,
   "metadata": {},
   "outputs": [
    {
     "name": "stdout",
     "output_type": "stream",
     "text": [
      "Input the radius of the circle : 2.8\n",
      "The area of the circle with radius 2.8 is: 24.630086404143974 cm\n"
     ]
    }
   ],
   "source": [
    "#Q4\n",
    "from math import pi\n",
    "r = float(input (\"Input the radius of the circle : \"))\n",
    "print (\"The area of the circle with radius \" + str(r) + \" is: \" + str(pi * r**2)+\" cm\")\n"
   ]
  },
  {
   "cell_type": "code",
   "execution_count": 13,
   "metadata": {},
   "outputs": [
    {
     "name": "stdout",
     "output_type": "stream",
     "text": [
      "My first name is: Muhammad Taha\n",
      "My last name is: Nasir\n",
      "Nasir Muhammad Taha\n"
     ]
    }
   ],
   "source": [
    "#Q5\n",
    "first_name=input(\"My first name is: \");\n",
    "last_name=input(\"My last name is: \");\n",
    "print(last_name+\" \"+first_name);\n"
   ]
  },
  {
   "cell_type": "code",
   "execution_count": 14,
   "metadata": {},
   "outputs": [
    {
     "name": "stdout",
     "output_type": "stream",
     "text": [
      "First number is: 2.3\n",
      "Second number is: 4.1\n",
      "The addition of number is: \n",
      "6.3999999999999995\n"
     ]
    }
   ],
   "source": [
    "#Q6\n",
    "Num1=float(input(\"First number is: \"));\n",
    "Num2=float(input(\"Second number is: \"));\n",
    "print(\"The addition of number is: \");\n",
    "Num=Num1+Num2;\n",
    "print(Num);"
   ]
  },
  {
   "cell_type": "code",
   "execution_count": 16,
   "metadata": {},
   "outputs": [
    {
     "name": "stdout",
     "output_type": "stream",
     "text": [
      "Eng marks are:\n",
      "80\n",
      "Isl marks are:\n",
      "70\n",
      "Marks_of_Maths are:\n",
      "85\n",
      "Arabic marks are:\n",
      "65\n",
      "EngDynamics marks are:\n",
      "75\n",
      "Overall Percentage is:\n",
      "75.0\n",
      "Grade A\n"
     ]
    }
   ],
   "source": [
    "#Q7\n",
    "Marks_of_Eng=80;\n",
    "Marks_of_Isl=70;\n",
    "Marks_of_Maths=85;\n",
    "Marks_of_Arabic=65;\n",
    "Marks_of_EngDynamics=75;\n",
    "if Marks_of_Eng<100 and Marks_of_Eng>0:\n",
    "    print(\"Eng marks are:\");\n",
    "    print(Marks_of_Eng);\n",
    "else:\n",
    "    print(\"Invalid value\");\n",
    "if Marks_of_Isl<100 and Marks_of_Isl>0:\n",
    "    print(\"Isl marks are:\");\n",
    "    print(Marks_of_Isl);\n",
    "else:\n",
    "    print('Invalid value');\n",
    "if Marks_of_Maths<100 and Marks_of_Maths>0:\n",
    "    print(\"Marks_of_Maths are:\");\n",
    "    print(Marks_of_Maths);\n",
    "else:\n",
    "    print('Invalid value');\n",
    "if Marks_of_Arabic<100 and Marks_of_Arabic>0:\n",
    "    print(\"Arabic marks are:\");\n",
    "    print(Marks_of_Arabic);\n",
    "else:\n",
    "    print(\"Invalid value\");\n",
    "if Marks_of_EngDynamics<100 and Marks_of_EngDynamics>0:\n",
    "    print(\"EngDynamics marks are:\");\n",
    "    print(Marks_of_EngDynamics);\n",
    "else:\n",
    "    print(\"Invalid value\");\n",
    "Total_marks=500;\n",
    "percentage=((Marks_of_Eng+Marks_of_Isl+Marks_of_Maths+Marks_of_EngDynamics+Marks_of_Arabic)/Total_marks)*100;\n",
    "print(\"Overall Percentage is:\");  print(percentage);\n",
    "if percentage<100 and percentage>=80:\n",
    "    print('Grade A+');\n",
    "elif percentage<80 and percentage>=70:\n",
    "    print('Grade A');\n",
    "elif percentage<70 and percentage>=60:\n",
    "    print('Grade B');\n",
    "elif percentage<60 and percentage>=50:\n",
    "    print('Grade C');\n",
    "elif percentage<50 and percentage>=40:\n",
    "    print('Grade D');\n",
    "elif percentage<40 and percentage>=0:\n",
    "    print('Fail');\n",
    "else:\n",
    "    print('Entered incorrect percentage');\n",
    "    \n"
   ]
  },
  {
   "cell_type": "code",
   "execution_count": null,
   "metadata": {},
   "outputs": [],
   "source": []
  }
 ],
 "metadata": {
  "kernelspec": {
   "display_name": "Python 3",
   "language": "python",
   "name": "python3"
  },
  "language_info": {
   "codemirror_mode": {
    "name": "ipython",
    "version": 3
   },
   "file_extension": ".py",
   "mimetype": "text/x-python",
   "name": "python",
   "nbconvert_exporter": "python",
   "pygments_lexer": "ipython3",
   "version": "3.8.5"
  }
 },
 "nbformat": 4,
 "nbformat_minor": 4
}
